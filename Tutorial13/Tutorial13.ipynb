{
  "cells": [
    {
      "cell_type": "code",
      "execution_count": 1,
      "metadata": {
        "id": "NmnMINuUbNOf",
        "outputId": "16f9e08d-c729-4c0d-d3eb-dcfb93c6028e",
        "colab": {
          "base_uri": "https://localhost:8080/"
        }
      },
      "outputs": [
        {
          "output_type": "stream",
          "name": "stdout",
          "text": [
            "  Installing build dependencies ... \u001b[?25l\u001b[?25hdone\n",
            "  Getting requirements to build wheel ... \u001b[?25l\u001b[?25hdone\n",
            "  Preparing metadata (pyproject.toml) ... \u001b[?25l\u001b[?25hdone\n"
          ]
        }
      ],
      "source": [
        "!pip install -q torch-scatter -f https://data.pyg.org/whl/torch-1.10.0+cu113.html\n",
        "!pip install -q torch-sparse -f https://data.pyg.org/whl/torch-1.10.0+cu113.html\n",
        "!pip install -q git+https://github.com/pyg-team/pytorch_geometric.git"
      ]
    },
    {
      "cell_type": "code",
      "execution_count": 2,
      "metadata": {
        "id": "mhwpZpRJbNOh"
      },
      "outputs": [],
      "source": [
        "import os.path as osp\n",
        "import numpy as np\n",
        "import torch\n",
        "from torch_geometric.datasets import AMiner\n",
        "from torch_geometric.nn import MetaPath2Vec"
      ]
    },
    {
      "cell_type": "markdown",
      "metadata": {
        "id": "SySTRhupbNOi"
      },
      "source": [
        "# MetaPath2Vec\n",
        "\n",
        "[paper](https://ericdongyx.github.io/papers/KDD17-dong-chawla-swami-metapath2vec.pdf)  \n",
        "[code](https://github.com/rusty1s/pytorch_geometric/blob/master/examples/metapath2vec.py)"
      ]
    },
    {
      "cell_type": "code",
      "execution_count": 3,
      "metadata": {
        "id": "aco9tkyDbNOi"
      },
      "outputs": [],
      "source": [
        "# load the dataset\n",
        "path = osp.join('..', 'data', 'AMiner')\n",
        "dataset = AMiner(path)\n",
        "data = dataset[0]\n"
      ]
    },
    {
      "cell_type": "code",
      "execution_count": 5,
      "metadata": {
        "id": "DwRZ4UVbbNOj",
        "outputId": "96f4d2c7-2cd6-4cef-ce3e-ebc98a5ec21b",
        "colab": {
          "base_uri": "https://localhost:8080/"
        }
      },
      "outputs": [
        {
          "output_type": "stream",
          "name": "stdout",
          "text": [
            "HeteroData(\n",
            "  author={\n",
            "    y=[246678],\n",
            "    y_index=[246678],\n",
            "    num_nodes=1693531,\n",
            "  },\n",
            "  venue={\n",
            "    y=[134],\n",
            "    y_index=[134],\n",
            "    num_nodes=3883,\n",
            "  },\n",
            "  paper={ num_nodes=3194405 },\n",
            "  (paper, written_by, author)={ edge_index=[2, 9323605] },\n",
            "  (author, writes, paper)={ edge_index=[2, 9323605] },\n",
            "  (paper, published_in, venue)={ edge_index=[2, 3194405] },\n",
            "  (venue, publishes, paper)={ edge_index=[2, 3194405] }\n",
            ")\n"
          ]
        }
      ],
      "source": [
        "print(data)"
      ]
    },
    {
      "cell_type": "code",
      "execution_count": 6,
      "metadata": {
        "id": "PabHQWGQbNOk",
        "outputId": "d1e92d07-92d6-4167-ec17-cc57be8c9602",
        "colab": {
          "base_uri": "https://localhost:8080/"
        }
      },
      "outputs": [
        {
          "output_type": "stream",
          "name": "stdout",
          "text": [
            "<class 'dict'>\n",
            "tensor([[      0,       1,       2,  ..., 3194404, 3194404, 3194404],\n",
            "        [      0,       1,       2,  ...,    4393,   21681,  317436]])\n"
          ]
        }
      ],
      "source": [
        "print(type(data.edge_index_dict))\n",
        "print(data.edge_index_dict[('paper', 'written_by', 'author')])"
      ]
    },
    {
      "cell_type": "code",
      "execution_count": 7,
      "metadata": {
        "id": "HRA9XFDEbNOk",
        "outputId": "bfeb58d3-764b-4e7b-b4db-9363d13c9690",
        "colab": {
          "base_uri": "https://localhost:8080/"
        }
      },
      "outputs": [
        {
          "output_type": "stream",
          "name": "stdout",
          "text": [
            "<class 'dict'>\n",
            "{'author': 1693531, 'venue': 3883, 'paper': 3194405}\n"
          ]
        }
      ],
      "source": [
        "print(type(data.num_nodes_dict))\n",
        "print(data.num_nodes_dict)"
      ]
    },
    {
      "cell_type": "code",
      "execution_count": 8,
      "metadata": {
        "id": "uKUkbtm4bNOk",
        "outputId": "d576f9b4-6fc4-416c-f1f6-fd2debaf2b58",
        "colab": {
          "base_uri": "https://localhost:8080/"
        }
      },
      "outputs": [
        {
          "output_type": "stream",
          "name": "stdout",
          "text": [
            "<class 'dict'>\n",
            "tensor([0, 0, 0, 0, 0, 0, 0, 0, 0, 0, 0, 0, 0, 0, 0, 0, 0, 0, 0, 1, 1, 1, 1, 1,\n",
            "        1, 1, 1, 1, 1, 1, 1, 1, 1, 1, 1, 1, 1, 1, 2, 2, 2, 2, 2, 2, 2, 2, 2, 2,\n",
            "        2, 2, 2, 2, 2, 2, 2, 2, 3, 3, 3, 3, 3, 3, 3, 3, 3, 3, 3, 3, 3, 3, 3, 3,\n",
            "        3, 3, 4, 4, 4, 4, 4, 4, 4, 4, 4, 4, 4, 4, 4, 4, 4, 4, 4, 5, 5, 5, 5, 5,\n",
            "        5, 5, 5, 5, 5, 5, 5, 5, 5, 5, 6, 6, 6, 6, 6, 6, 6, 6, 6, 6, 6, 6, 6, 7,\n",
            "        7, 7, 7, 7, 7, 7, 7, 7, 7, 7, 7, 7, 7, 7])\n"
          ]
        }
      ],
      "source": [
        "print(type(data.y_dict))\n",
        "print(data.y_dict[\"venue\"])"
      ]
    },
    {
      "cell_type": "code",
      "execution_count": 9,
      "metadata": {
        "id": "HQiJrlMebNOl",
        "outputId": "7797e27f-bd6b-455e-80e2-1e8896b1cc50",
        "colab": {
          "base_uri": "https://localhost:8080/"
        }
      },
      "outputs": [
        {
          "output_type": "stream",
          "name": "stdout",
          "text": [
            "<class 'dict'>\n",
            "tensor([1741, 2245,  111,  837, 2588, 2116, 2696, 3648, 3784,  313, 3414,  598,\n",
            "        2995, 2716, 1423,  783, 1902, 3132, 1753, 2748, 2660, 3182,  775, 3339,\n",
            "        1601, 3589,  156, 1145,  692, 3048,  925, 1587,  820, 1374, 3719,  819,\n",
            "         492, 3830, 2777, 3001, 3693,  517, 1808, 2353, 3499, 1763, 2372, 1030,\n",
            "         721, 2680, 3355, 1217, 3400, 1271, 1970, 1127,  407,  353, 1471, 1095,\n",
            "         477, 3701,   65, 1009, 1899, 1442, 2073, 3143, 2466,  289, 1996, 1070,\n",
            "        3871, 3695,  281, 3633,   50, 2642, 1925, 1285, 2587, 3814, 3582, 1873,\n",
            "        1339, 3450,  271, 2966,  453, 2638, 1354, 3211,  391, 1588, 3875, 2216,\n",
            "        2146, 3765, 2486,  661, 3367,  426,  750, 2158,  519,  230, 1677,  839,\n",
            "        2945, 1313, 1037, 2879, 2225, 3523, 1247,  448,  227, 3385,  529, 2849,\n",
            "        1584, 1229,  373, 2235, 1819, 1764, 3155, 2852, 2789, 3474, 1571, 2088,\n",
            "         208,  462])\n"
          ]
        }
      ],
      "source": [
        "print(type(data.y_index_dict))\n",
        "print(data.y_index_dict[\"venue\"])"
      ]
    },
    {
      "cell_type": "code",
      "execution_count": 4,
      "metadata": {
        "id": "bXx-VHXMbNOm"
      },
      "outputs": [],
      "source": [
        "# move the data to cpu or GPU\n",
        "device = 'cuda' if torch.cuda.is_available() else 'cpu'\n",
        "device = \"cpu\""
      ]
    },
    {
      "cell_type": "code",
      "execution_count": 5,
      "metadata": {
        "id": "R3jIWPNzbNOm"
      },
      "outputs": [],
      "source": [
        "# define the model\n",
        "\n",
        "metapath = [\n",
        "    ('author', 'writes', 'paper'),\n",
        "    ('paper', 'published_in', 'venue'),\n",
        "    ('venue', 'publishes', 'paper'),\n",
        "    ('paper', 'written_by', 'author'),\n",
        "]\n",
        "\n",
        "\n",
        "model = MetaPath2Vec(data.edge_index_dict,\n",
        "                     embedding_dim=64,\n",
        "                     metapath=metapath,\n",
        "                     walk_length=3,\n",
        "                     context_size=3,\n",
        "                     walks_per_node=2,\n",
        "                     num_negative_samples=1,\n",
        "                     sparse=True\n",
        "                    ).to(device)\n"
      ]
    },
    {
      "cell_type": "code",
      "execution_count": 6,
      "metadata": {
        "id": "hH8SubFxbNOn"
      },
      "outputs": [],
      "source": [
        "# use the loader to build a loader\n",
        "loader = model.loader(batch_size=8, shuffle=True, num_workers=2)"
      ]
    },
    {
      "cell_type": "code",
      "execution_count": 7,
      "metadata": {
        "id": "2JIiJ6tsbNOn",
        "outputId": "46f1794e-1f0a-4f7d-d057-0e296a5c2e03",
        "colab": {
          "base_uri": "https://localhost:8080/"
        }
      },
      "outputs": [
        {
          "output_type": "stream",
          "name": "stdout",
          "text": [
            "0 torch.Size([32, 3]) torch.Size([32, 3])\n",
            "1 torch.Size([32, 3]) torch.Size([32, 3])\n",
            "2 torch.Size([32, 3]) torch.Size([32, 3])\n",
            "3 torch.Size([32, 3]) torch.Size([32, 3])\n",
            "4 torch.Size([32, 3]) torch.Size([32, 3])\n",
            "5 torch.Size([32, 3]) torch.Size([32, 3])\n",
            "6 torch.Size([32, 3]) torch.Size([32, 3])\n",
            "7 torch.Size([32, 3]) torch.Size([32, 3])\n",
            "8 torch.Size([32, 3]) torch.Size([32, 3])\n",
            "9 torch.Size([32, 3]) torch.Size([32, 3])\n"
          ]
        }
      ],
      "source": [
        "for idx, (pos_rw, neg_rw) in enumerate(loader):\n",
        "    if idx == 10: break\n",
        "    print(idx, pos_rw.shape, neg_rw.shape)"
      ]
    },
    {
      "cell_type": "code",
      "execution_count": 8,
      "metadata": {
        "id": "afZ1ZBbkbNOn",
        "outputId": "07391d07-1de3-49d3-9de9-aafc3b13deb2",
        "colab": {
          "base_uri": "https://localhost:8080/"
        }
      },
      "outputs": [
        {
          "output_type": "stream",
          "name": "stdout",
          "text": [
            "tensor([1205330, 3825978, 4888163]) tensor([1205330, 1710189, 4890038])\n"
          ]
        }
      ],
      "source": [
        "print(pos_rw[0],neg_rw[0])"
      ]
    },
    {
      "cell_type": "code",
      "execution_count": 9,
      "metadata": {
        "id": "cxcuxCugbNOn"
      },
      "outputs": [],
      "source": [
        "# Inizialize optimizer\n",
        "optimizer = torch.optim.SparseAdam(list(model.parameters()), lr=0.01)"
      ]
    },
    {
      "cell_type": "code",
      "execution_count": 10,
      "metadata": {
        "id": "mDieig6MbNOo"
      },
      "outputs": [],
      "source": [
        "def train(epoch, log_steps=500, eval_steps=1000):\n",
        "    model.train()\n",
        "\n",
        "    total_loss = 0\n",
        "    for i, (pos_rw, neg_rw) in enumerate(loader):\n",
        "        optimizer.zero_grad()\n",
        "        loss = model.loss(pos_rw.to(device), neg_rw.to(device))\n",
        "        loss.backward()\n",
        "        optimizer.step()\n",
        "\n",
        "        total_loss += loss.item()\n",
        "        if (i + 1) % log_steps == 0:\n",
        "            print((f'Epoch: {epoch}, Step: {i + 1:05d}/{len(loader)}, '\n",
        "                   f'Loss: {total_loss / log_steps:.4f}'))\n",
        "            total_loss = 0\n",
        "\n",
        "        if (i + 1) % eval_steps == 0:\n",
        "            acc = test()\n",
        "            print((f'Epoch: {epoch}, Step: {i + 1:05d}/{len(loader)}, '\n",
        "                   f'Acc: {acc:.4f}'))\n",
        "\n",
        "@torch.no_grad()\n",
        "def test(train_ratio=0.05):\n",
        "    model.eval()\n",
        "\n",
        "    z = model('author', batch=data.y_index_dict['author'])\n",
        "    y = data.y_dict['author']\n",
        "\n",
        "    perm = torch.randperm(z.size(0))\n",
        "    train_perm = perm[:int(z.size(0) * train_ratio)]\n",
        "    test_perm = perm[int(z.size(0) * train_ratio):]\n",
        "\n",
        "    return model.test(z[train_perm], y[train_perm], z[test_perm],\n",
        "                      y[test_perm], max_iter=150)\n"
      ]
    },
    {
      "cell_type": "code",
      "execution_count": 11,
      "metadata": {
        "id": "kNFOxcshbNOo",
        "outputId": "e5cf09cd-fcba-4d98-cb78-842cd5e07fe6",
        "colab": {
          "base_uri": "https://localhost:8080/"
        }
      },
      "outputs": [
        {
          "output_type": "stream",
          "name": "stdout",
          "text": [
            "Epoch: 1, Step: 00500/211692, Loss: 6.7550\n",
            "Epoch: 1, Step: 01000/211692, Loss: 6.6990\n",
            "Epoch: 1, Step: 01000/211692, Acc: 0.2748\n",
            "Epoch: 1, Step: 01500/211692, Loss: 6.6744\n",
            "Epoch: 1, Step: 02000/211692, Loss: 6.6113\n",
            "Epoch: 1, Step: 02000/211692, Acc: 0.2763\n",
            "Epoch: 1, Step: 02500/211692, Loss: 6.5909\n",
            "Epoch: 1, Step: 03000/211692, Loss: 6.5548\n",
            "Epoch: 1, Step: 03000/211692, Acc: 0.2768\n",
            "Epoch: 1, Step: 03500/211692, Loss: 6.3693\n",
            "Epoch: 1, Step: 04000/211692, Loss: 6.3233\n",
            "Epoch: 1, Step: 04000/211692, Acc: 0.2763\n",
            "Epoch: 1, Step: 04500/211692, Loss: 6.3255\n",
            "Epoch: 1, Step: 05000/211692, Loss: 6.2131\n",
            "Epoch: 1, Step: 05000/211692, Acc: 0.2759\n",
            "Epoch: 1, Step: 05500/211692, Loss: 6.2407\n",
            "Epoch: 1, Step: 06000/211692, Loss: 6.1743\n",
            "Epoch: 1, Step: 06000/211692, Acc: 0.2748\n",
            "Epoch: 1, Step: 06500/211692, Loss: 6.1509\n",
            "Epoch: 1, Step: 07000/211692, Loss: 6.1135\n",
            "Epoch: 1, Step: 07000/211692, Acc: 0.2748\n",
            "Epoch: 1, Step: 07500/211692, Loss: 5.9819\n",
            "Epoch: 1, Step: 08000/211692, Loss: 6.0341\n",
            "Epoch: 1, Step: 08000/211692, Acc: 0.2770\n",
            "Epoch: 1, Step: 08500/211692, Loss: 5.9884\n",
            "Epoch: 1, Step: 09000/211692, Loss: 5.9375\n",
            "Epoch: 1, Step: 09000/211692, Acc: 0.2763\n",
            "Epoch: 1, Step: 09500/211692, Loss: 5.8404\n",
            "Epoch: 1, Step: 10000/211692, Loss: 5.8671\n",
            "Epoch: 1, Step: 10000/211692, Acc: 0.2758\n",
            "Epoch: 1, Step: 10500/211692, Loss: 5.8305\n",
            "Epoch: 1, Step: 11000/211692, Loss: 5.7779\n",
            "Epoch: 1, Step: 11000/211692, Acc: 0.2772\n",
            "Epoch: 1, Step: 11500/211692, Loss: 5.7414\n",
            "Epoch: 1, Step: 12000/211692, Loss: 5.6797\n",
            "Epoch: 1, Step: 12000/211692, Acc: 0.2739\n",
            "Epoch: 1, Step: 12500/211692, Loss: 5.7314\n",
            "Epoch: 1, Step: 13000/211692, Loss: 5.6953\n",
            "Epoch: 1, Step: 13000/211692, Acc: 0.2764\n",
            "Epoch: 1, Step: 13500/211692, Loss: 5.6814\n",
            "Epoch: 1, Step: 14000/211692, Loss: 5.6973\n",
            "Epoch: 1, Step: 14000/211692, Acc: 0.2770\n",
            "Epoch: 1, Step: 14500/211692, Loss: 5.5911\n",
            "Epoch: 1, Step: 15000/211692, Loss: 5.5853\n",
            "Epoch: 1, Step: 15000/211692, Acc: 0.2774\n",
            "Epoch: 1, Step: 15500/211692, Loss: 5.6035\n",
            "Epoch: 1, Step: 16000/211692, Loss: 5.5158\n",
            "Epoch: 1, Step: 16000/211692, Acc: 0.2767\n",
            "Epoch: 1, Step: 16500/211692, Loss: 5.4614\n",
            "Epoch: 1, Step: 17000/211692, Loss: 5.4256\n",
            "Epoch: 1, Step: 17000/211692, Acc: 0.2771\n",
            "Epoch: 1, Step: 17500/211692, Loss: 5.4315\n",
            "Epoch: 1, Step: 18000/211692, Loss: 5.4069\n",
            "Epoch: 1, Step: 18000/211692, Acc: 0.2768\n",
            "Epoch: 1, Step: 18500/211692, Loss: 5.4255\n",
            "Epoch: 1, Step: 19000/211692, Loss: 5.4785\n",
            "Epoch: 1, Step: 19000/211692, Acc: 0.2765\n",
            "Epoch: 1, Step: 19500/211692, Loss: 5.3799\n",
            "Epoch: 1, Step: 20000/211692, Loss: 5.4103\n",
            "Epoch: 1, Step: 20000/211692, Acc: 0.2753\n",
            "Epoch: 1, Step: 20500/211692, Loss: 5.3100\n",
            "Epoch: 1, Step: 21000/211692, Loss: 5.3642\n",
            "Epoch: 1, Step: 21000/211692, Acc: 0.2778\n",
            "Epoch: 1, Step: 21500/211692, Loss: 5.2509\n",
            "Epoch: 1, Step: 22000/211692, Loss: 5.2804\n",
            "Epoch: 1, Step: 22000/211692, Acc: 0.2772\n",
            "Epoch: 1, Step: 22500/211692, Loss: 5.2564\n",
            "Epoch: 1, Step: 23000/211692, Loss: 5.2919\n",
            "Epoch: 1, Step: 23000/211692, Acc: 0.2767\n",
            "Epoch: 1, Step: 23500/211692, Loss: 5.2014\n",
            "Epoch: 1, Step: 24000/211692, Loss: 5.2002\n",
            "Epoch: 1, Step: 24000/211692, Acc: 0.2759\n",
            "Epoch: 1, Step: 24500/211692, Loss: 5.1253\n",
            "Epoch: 1, Step: 25000/211692, Loss: 5.1395\n",
            "Epoch: 1, Step: 25000/211692, Acc: 0.2773\n",
            "Epoch: 1, Step: 25500/211692, Loss: 5.1947\n",
            "Epoch: 1, Step: 26000/211692, Loss: 5.0887\n",
            "Epoch: 1, Step: 26000/211692, Acc: 0.2753\n",
            "Epoch: 1, Step: 26500/211692, Loss: 5.1621\n",
            "Epoch: 1, Step: 27000/211692, Loss: 5.1686\n",
            "Epoch: 1, Step: 27000/211692, Acc: 0.2776\n",
            "Epoch: 1, Step: 27500/211692, Loss: 5.0729\n",
            "Epoch: 1, Step: 28000/211692, Loss: 5.1014\n",
            "Epoch: 1, Step: 28000/211692, Acc: 0.2770\n",
            "Epoch: 1, Step: 28500/211692, Loss: 5.0782\n",
            "Epoch: 1, Step: 29000/211692, Loss: 4.9998\n",
            "Epoch: 1, Step: 29000/211692, Acc: 0.2753\n",
            "Epoch: 1, Step: 29500/211692, Loss: 4.9941\n",
            "Epoch: 1, Step: 30000/211692, Loss: 5.0190\n",
            "Epoch: 1, Step: 30000/211692, Acc: 0.2766\n",
            "Epoch: 1, Step: 30500/211692, Loss: 5.0355\n",
            "Epoch: 1, Step: 31000/211692, Loss: 4.9436\n",
            "Epoch: 1, Step: 31000/211692, Acc: 0.2747\n",
            "Epoch: 1, Step: 31500/211692, Loss: 4.8948\n",
            "Epoch: 1, Step: 32000/211692, Loss: 4.9837\n",
            "Epoch: 1, Step: 32000/211692, Acc: 0.2763\n",
            "Epoch: 1, Step: 32500/211692, Loss: 4.9699\n",
            "Epoch: 1, Step: 33000/211692, Loss: 4.9490\n",
            "Epoch: 1, Step: 33000/211692, Acc: 0.2773\n",
            "Epoch: 1, Step: 33500/211692, Loss: 4.9219\n",
            "Epoch: 1, Step: 34000/211692, Loss: 4.9320\n",
            "Epoch: 1, Step: 34000/211692, Acc: 0.2739\n",
            "Epoch: 1, Step: 34500/211692, Loss: 4.9064\n",
            "Epoch: 1, Step: 35000/211692, Loss: 4.9100\n",
            "Epoch: 1, Step: 35000/211692, Acc: 0.2752\n",
            "Epoch: 1, Step: 35500/211692, Loss: 4.9344\n",
            "Epoch: 1, Step: 36000/211692, Loss: 4.8971\n",
            "Epoch: 1, Step: 36000/211692, Acc: 0.2763\n",
            "Epoch: 1, Step: 36500/211692, Loss: 4.8250\n",
            "Epoch: 1, Step: 37000/211692, Loss: 4.8661\n",
            "Epoch: 1, Step: 37000/211692, Acc: 0.2744\n",
            "Epoch: 1, Step: 37500/211692, Loss: 4.8382\n",
            "Epoch: 1, Step: 38000/211692, Loss: 4.8014\n",
            "Epoch: 1, Step: 38000/211692, Acc: 0.2755\n",
            "Epoch: 1, Step: 38500/211692, Loss: 4.7550\n",
            "Epoch: 1, Step: 39000/211692, Loss: 4.7680\n",
            "Epoch: 1, Step: 39000/211692, Acc: 0.2759\n",
            "Epoch: 1, Step: 39500/211692, Loss: 4.8363\n",
            "Epoch: 1, Step: 40000/211692, Loss: 4.7794\n",
            "Epoch: 1, Step: 40000/211692, Acc: 0.2765\n",
            "Epoch: 1, Step: 40500/211692, Loss: 4.8212\n",
            "Epoch: 1, Step: 41000/211692, Loss: 4.7862\n",
            "Epoch: 1, Step: 41000/211692, Acc: 0.2768\n",
            "Epoch: 1, Step: 41500/211692, Loss: 4.7674\n",
            "Epoch: 1, Step: 42000/211692, Loss: 4.7853\n",
            "Epoch: 1, Step: 42000/211692, Acc: 0.2774\n",
            "Epoch: 1, Step: 42500/211692, Loss: 4.7009\n",
            "Epoch: 1, Step: 43000/211692, Loss: 4.7500\n",
            "Epoch: 1, Step: 43000/211692, Acc: 0.2769\n",
            "Epoch: 1, Step: 43500/211692, Loss: 4.6857\n",
            "Epoch: 1, Step: 44000/211692, Loss: 4.7532\n",
            "Epoch: 1, Step: 44000/211692, Acc: 0.2758\n",
            "Epoch: 1, Step: 44500/211692, Loss: 4.7212\n",
            "Epoch: 1, Step: 45000/211692, Loss: 4.6781\n",
            "Epoch: 1, Step: 45000/211692, Acc: 0.2761\n",
            "Epoch: 1, Step: 45500/211692, Loss: 4.7191\n",
            "Epoch: 1, Step: 46000/211692, Loss: 4.6988\n",
            "Epoch: 1, Step: 46000/211692, Acc: 0.2764\n",
            "Epoch: 1, Step: 46500/211692, Loss: 4.6398\n",
            "Epoch: 1, Step: 47000/211692, Loss: 4.6621\n",
            "Epoch: 1, Step: 47000/211692, Acc: 0.2760\n",
            "Epoch: 1, Step: 47500/211692, Loss: 4.7091\n",
            "Epoch: 1, Step: 48000/211692, Loss: 4.6817\n",
            "Epoch: 1, Step: 48000/211692, Acc: 0.2751\n",
            "Epoch: 1, Step: 48500/211692, Loss: 4.6162\n",
            "Epoch: 1, Step: 49000/211692, Loss: 4.6265\n",
            "Epoch: 1, Step: 49000/211692, Acc: 0.2734\n",
            "Epoch: 1, Step: 49500/211692, Loss: 4.6120\n",
            "Epoch: 1, Step: 50000/211692, Loss: 4.6270\n",
            "Epoch: 1, Step: 50000/211692, Acc: 0.2765\n",
            "Epoch: 1, Step: 50500/211692, Loss: 4.5619\n",
            "Epoch: 1, Step: 51000/211692, Loss: 4.6114\n",
            "Epoch: 1, Step: 51000/211692, Acc: 0.2749\n",
            "Epoch: 1, Step: 51500/211692, Loss: 4.5723\n",
            "Epoch: 1, Step: 52000/211692, Loss: 4.5686\n",
            "Epoch: 1, Step: 52000/211692, Acc: 0.2747\n",
            "Epoch: 1, Step: 52500/211692, Loss: 4.4953\n",
            "Epoch: 1, Step: 53000/211692, Loss: 4.5434\n",
            "Epoch: 1, Step: 53000/211692, Acc: 0.2763\n",
            "Epoch: 1, Step: 53500/211692, Loss: 4.5772\n",
            "Epoch: 1, Step: 54000/211692, Loss: 4.5176\n",
            "Epoch: 1, Step: 54000/211692, Acc: 0.2763\n",
            "Epoch: 1, Step: 54500/211692, Loss: 4.5995\n",
            "Epoch: 1, Step: 55000/211692, Loss: 4.5658\n",
            "Epoch: 1, Step: 55000/211692, Acc: 0.2754\n",
            "Epoch: 1, Step: 55500/211692, Loss: 4.5578\n",
            "Epoch: 1, Step: 56000/211692, Loss: 4.5751\n",
            "Epoch: 1, Step: 56000/211692, Acc: 0.2766\n",
            "Epoch: 1, Step: 56500/211692, Loss: 4.5655\n",
            "Epoch: 1, Step: 57000/211692, Loss: 4.5167\n",
            "Epoch: 1, Step: 57000/211692, Acc: 0.2765\n",
            "Epoch: 1, Step: 57500/211692, Loss: 4.4961\n",
            "Epoch: 1, Step: 58000/211692, Loss: 4.5372\n",
            "Epoch: 1, Step: 58000/211692, Acc: 0.2768\n",
            "Epoch: 1, Step: 58500/211692, Loss: 4.5286\n",
            "Epoch: 1, Step: 59000/211692, Loss: 4.4240\n",
            "Epoch: 1, Step: 59000/211692, Acc: 0.2749\n",
            "Epoch: 1, Step: 59500/211692, Loss: 4.5052\n",
            "Epoch: 1, Step: 60000/211692, Loss: 4.4423\n",
            "Epoch: 1, Step: 60000/211692, Acc: 0.2767\n",
            "Epoch: 1, Step: 60500/211692, Loss: 4.4598\n",
            "Epoch: 1, Step: 61000/211692, Loss: 4.4533\n",
            "Epoch: 1, Step: 61000/211692, Acc: 0.2753\n",
            "Epoch: 1, Step: 61500/211692, Loss: 4.4723\n",
            "Epoch: 1, Step: 62000/211692, Loss: 4.4491\n",
            "Epoch: 1, Step: 62000/211692, Acc: 0.2765\n",
            "Epoch: 1, Step: 62500/211692, Loss: 4.4681\n",
            "Epoch: 1, Step: 63000/211692, Loss: 4.4013\n",
            "Epoch: 1, Step: 63000/211692, Acc: 0.2765\n",
            "Epoch: 1, Step: 63500/211692, Loss: 4.4635\n",
            "Epoch: 1, Step: 64000/211692, Loss: 4.4422\n",
            "Epoch: 1, Step: 64000/211692, Acc: 0.2763\n",
            "Epoch: 1, Step: 64500/211692, Loss: 4.4304\n",
            "Epoch: 1, Step: 65000/211692, Loss: 4.3714\n",
            "Epoch: 1, Step: 65000/211692, Acc: 0.2761\n",
            "Epoch: 1, Step: 65500/211692, Loss: 4.3949\n",
            "Epoch: 1, Step: 66000/211692, Loss: 4.4451\n",
            "Epoch: 1, Step: 66000/211692, Acc: 0.2765\n",
            "Epoch: 1, Step: 66500/211692, Loss: 4.3975\n",
            "Epoch: 1, Step: 67000/211692, Loss: 4.4700\n",
            "Epoch: 1, Step: 67000/211692, Acc: 0.2776\n",
            "Epoch: 1, Step: 67500/211692, Loss: 4.4031\n",
            "Epoch: 1, Step: 68000/211692, Loss: 4.3899\n",
            "Epoch: 1, Step: 68000/211692, Acc: 0.2760\n",
            "Epoch: 1, Step: 68500/211692, Loss: 4.3737\n",
            "Epoch: 1, Step: 69000/211692, Loss: 4.3799\n",
            "Epoch: 1, Step: 69000/211692, Acc: 0.2770\n",
            "Epoch: 1, Step: 69500/211692, Loss: 4.3723\n",
            "Epoch: 1, Step: 70000/211692, Loss: 4.4120\n",
            "Epoch: 1, Step: 70000/211692, Acc: 0.2772\n",
            "Epoch: 1, Step: 70500/211692, Loss: 4.4130\n",
            "Epoch: 1, Step: 71000/211692, Loss: 4.3685\n",
            "Epoch: 1, Step: 71000/211692, Acc: 0.2726\n",
            "Epoch: 1, Step: 71500/211692, Loss: 4.3549\n",
            "Epoch: 1, Step: 72000/211692, Loss: 4.3957\n",
            "Epoch: 1, Step: 72000/211692, Acc: 0.2752\n",
            "Epoch: 1, Step: 72500/211692, Loss: 4.3592\n",
            "Epoch: 1, Step: 73000/211692, Loss: 4.3279\n",
            "Epoch: 1, Step: 73000/211692, Acc: 0.2754\n",
            "Epoch: 1, Step: 73500/211692, Loss: 4.3310\n",
            "Epoch: 1, Step: 74000/211692, Loss: 4.3848\n",
            "Epoch: 1, Step: 74000/211692, Acc: 0.2765\n",
            "Epoch: 1, Step: 74500/211692, Loss: 4.3283\n",
            "Epoch: 1, Step: 75000/211692, Loss: 4.3879\n",
            "Epoch: 1, Step: 75000/211692, Acc: 0.2747\n",
            "Epoch: 1, Step: 75500/211692, Loss: 4.3209\n",
            "Epoch: 1, Step: 76000/211692, Loss: 4.3314\n",
            "Epoch: 1, Step: 76000/211692, Acc: 0.2759\n",
            "Epoch: 1, Step: 76500/211692, Loss: 4.3084\n",
            "Epoch: 1, Step: 77000/211692, Loss: 4.3424\n",
            "Epoch: 1, Step: 77000/211692, Acc: 0.2731\n",
            "Epoch: 1, Step: 77500/211692, Loss: 4.3193\n",
            "Epoch: 1, Step: 78000/211692, Loss: 4.3052\n",
            "Epoch: 1, Step: 78000/211692, Acc: 0.2740\n",
            "Epoch: 1, Step: 78500/211692, Loss: 4.3298\n",
            "Epoch: 1, Step: 79000/211692, Loss: 4.2687\n",
            "Epoch: 1, Step: 79000/211692, Acc: 0.2761\n",
            "Epoch: 1, Step: 79500/211692, Loss: 4.3039\n",
            "Epoch: 1, Step: 80000/211692, Loss: 4.3370\n",
            "Epoch: 1, Step: 80000/211692, Acc: 0.2774\n",
            "Epoch: 1, Step: 80500/211692, Loss: 4.3469\n",
            "Epoch: 1, Step: 81000/211692, Loss: 4.2862\n",
            "Epoch: 1, Step: 81000/211692, Acc: 0.2769\n",
            "Epoch: 1, Step: 81500/211692, Loss: 4.3077\n",
            "Epoch: 1, Step: 82000/211692, Loss: 4.3694\n",
            "Epoch: 1, Step: 82000/211692, Acc: 0.2761\n",
            "Epoch: 1, Step: 82500/211692, Loss: 4.2757\n",
            "Epoch: 1, Step: 83000/211692, Loss: 4.2971\n",
            "Epoch: 1, Step: 83000/211692, Acc: 0.2765\n",
            "Epoch: 1, Step: 83500/211692, Loss: 4.3061\n",
            "Epoch: 1, Step: 84000/211692, Loss: 4.3016\n",
            "Epoch: 1, Step: 84000/211692, Acc: 0.2756\n",
            "Epoch: 1, Step: 84500/211692, Loss: 4.2784\n",
            "Epoch: 1, Step: 85000/211692, Loss: 4.3011\n",
            "Epoch: 1, Step: 85000/211692, Acc: 0.2763\n",
            "Epoch: 1, Step: 85500/211692, Loss: 4.3023\n",
            "Epoch: 1, Step: 86000/211692, Loss: 4.2590\n",
            "Epoch: 1, Step: 86000/211692, Acc: 0.2757\n",
            "Epoch: 1, Step: 86500/211692, Loss: 4.3010\n",
            "Epoch: 1, Step: 87000/211692, Loss: 4.3005\n",
            "Epoch: 1, Step: 87000/211692, Acc: 0.2767\n",
            "Epoch: 1, Step: 87500/211692, Loss: 4.2536\n",
            "Epoch: 1, Step: 88000/211692, Loss: 4.2289\n",
            "Epoch: 1, Step: 88000/211692, Acc: 0.2763\n",
            "Epoch: 1, Step: 88500/211692, Loss: 4.2854\n",
            "Epoch: 1, Step: 89000/211692, Loss: 4.3033\n",
            "Epoch: 1, Step: 89000/211692, Acc: 0.2742\n",
            "Epoch: 1, Step: 89500/211692, Loss: 4.2656\n",
            "Epoch: 1, Step: 90000/211692, Loss: 4.2317\n",
            "Epoch: 1, Step: 90000/211692, Acc: 0.2741\n",
            "Epoch: 1, Step: 90500/211692, Loss: 4.2763\n",
            "Epoch: 1, Step: 91000/211692, Loss: 4.2685\n",
            "Epoch: 1, Step: 91000/211692, Acc: 0.2755\n",
            "Epoch: 1, Step: 91500/211692, Loss: 4.1988\n",
            "Epoch: 1, Step: 92000/211692, Loss: 4.2687\n",
            "Epoch: 1, Step: 92000/211692, Acc: 0.2767\n",
            "Epoch: 1, Step: 92500/211692, Loss: 4.2522\n",
            "Epoch: 1, Step: 93000/211692, Loss: 4.2243\n",
            "Epoch: 1, Step: 93000/211692, Acc: 0.2740\n",
            "Epoch: 1, Step: 93500/211692, Loss: 4.2441\n",
            "Epoch: 1, Step: 94000/211692, Loss: 4.2009\n",
            "Epoch: 1, Step: 94000/211692, Acc: 0.2773\n",
            "Epoch: 1, Step: 94500/211692, Loss: 4.1959\n",
            "Epoch: 1, Step: 95000/211692, Loss: 4.2501\n",
            "Epoch: 1, Step: 95000/211692, Acc: 0.2755\n",
            "Epoch: 1, Step: 95500/211692, Loss: 4.2506\n",
            "Epoch: 1, Step: 96000/211692, Loss: 4.2308\n",
            "Epoch: 1, Step: 96000/211692, Acc: 0.2740\n",
            "Epoch: 1, Step: 96500/211692, Loss: 4.2540\n",
            "Epoch: 1, Step: 97000/211692, Loss: 4.1919\n",
            "Epoch: 1, Step: 97000/211692, Acc: 0.2762\n",
            "Epoch: 1, Step: 97500/211692, Loss: 4.2457\n",
            "Epoch: 1, Step: 98000/211692, Loss: 4.2236\n",
            "Epoch: 1, Step: 98000/211692, Acc: 0.2776\n",
            "Epoch: 1, Step: 98500/211692, Loss: 4.2452\n",
            "Epoch: 1, Step: 99000/211692, Loss: 4.2528\n",
            "Epoch: 1, Step: 99000/211692, Acc: 0.2771\n",
            "Epoch: 1, Step: 99500/211692, Loss: 4.2513\n",
            "Epoch: 1, Step: 100000/211692, Loss: 4.2395\n",
            "Epoch: 1, Step: 100000/211692, Acc: 0.2764\n",
            "Epoch: 1, Step: 100500/211692, Loss: 4.2240\n",
            "Epoch: 1, Step: 101000/211692, Loss: 4.2085\n",
            "Epoch: 1, Step: 101000/211692, Acc: 0.2761\n",
            "Epoch: 1, Step: 101500/211692, Loss: 4.1582\n",
            "Epoch: 1, Step: 102000/211692, Loss: 4.1882\n",
            "Epoch: 1, Step: 102000/211692, Acc: 0.2754\n",
            "Epoch: 1, Step: 102500/211692, Loss: 4.2037\n",
            "Epoch: 1, Step: 103000/211692, Loss: 4.1810\n",
            "Epoch: 1, Step: 103000/211692, Acc: 0.2747\n",
            "Epoch: 1, Step: 103500/211692, Loss: 4.1758\n",
            "Epoch: 1, Step: 104000/211692, Loss: 4.2583\n",
            "Epoch: 1, Step: 104000/211692, Acc: 0.2769\n",
            "Epoch: 1, Step: 104500/211692, Loss: 4.2123\n",
            "Epoch: 1, Step: 105000/211692, Loss: 4.1971\n",
            "Epoch: 1, Step: 105000/211692, Acc: 0.2773\n",
            "Epoch: 1, Step: 105500/211692, Loss: 4.1803\n",
            "Epoch: 1, Step: 106000/211692, Loss: 4.1858\n",
            "Epoch: 1, Step: 106000/211692, Acc: 0.2756\n",
            "Epoch: 1, Step: 106500/211692, Loss: 4.1391\n",
            "Epoch: 1, Step: 107000/211692, Loss: 4.2125\n",
            "Epoch: 1, Step: 107000/211692, Acc: 0.2763\n",
            "Epoch: 1, Step: 107500/211692, Loss: 4.2312\n",
            "Epoch: 1, Step: 108000/211692, Loss: 4.1746\n",
            "Epoch: 1, Step: 108000/211692, Acc: 0.2775\n",
            "Epoch: 1, Step: 108500/211692, Loss: 4.1642\n",
            "Epoch: 1, Step: 109000/211692, Loss: 4.2345\n",
            "Epoch: 1, Step: 109000/211692, Acc: 0.2758\n",
            "Epoch: 1, Step: 109500/211692, Loss: 4.2259\n",
            "Epoch: 1, Step: 110000/211692, Loss: 4.2683\n",
            "Epoch: 1, Step: 110000/211692, Acc: 0.2769\n",
            "Epoch: 1, Step: 110500/211692, Loss: 4.1586\n",
            "Epoch: 1, Step: 111000/211692, Loss: 4.2535\n",
            "Epoch: 1, Step: 111000/211692, Acc: 0.2734\n",
            "Epoch: 1, Step: 111500/211692, Loss: 4.1466\n",
            "Epoch: 1, Step: 112000/211692, Loss: 4.1838\n",
            "Epoch: 1, Step: 112000/211692, Acc: 0.2768\n",
            "Epoch: 1, Step: 112500/211692, Loss: 4.2184\n",
            "Epoch: 1, Step: 113000/211692, Loss: 4.2161\n",
            "Epoch: 1, Step: 113000/211692, Acc: 0.2763\n",
            "Epoch: 1, Step: 113500/211692, Loss: 4.1808\n",
            "Epoch: 1, Step: 114000/211692, Loss: 4.2081\n",
            "Epoch: 1, Step: 114000/211692, Acc: 0.2753\n",
            "Epoch: 1, Step: 114500/211692, Loss: 4.1103\n",
            "Epoch: 1, Step: 115000/211692, Loss: 4.1930\n",
            "Epoch: 1, Step: 115000/211692, Acc: 0.2759\n",
            "Epoch: 1, Step: 115500/211692, Loss: 4.1785\n",
            "Epoch: 1, Step: 116000/211692, Loss: 4.1860\n",
            "Epoch: 1, Step: 116000/211692, Acc: 0.2774\n",
            "Epoch: 1, Step: 116500/211692, Loss: 4.2030\n",
            "Epoch: 1, Step: 117000/211692, Loss: 4.2096\n",
            "Epoch: 1, Step: 117000/211692, Acc: 0.2765\n",
            "Epoch: 1, Step: 117500/211692, Loss: 4.1808\n",
            "Epoch: 1, Step: 118000/211692, Loss: 4.1641\n",
            "Epoch: 1, Step: 118000/211692, Acc: 0.2769\n",
            "Epoch: 1, Step: 118500/211692, Loss: 4.1885\n",
            "Epoch: 1, Step: 119000/211692, Loss: 4.1737\n",
            "Epoch: 1, Step: 119000/211692, Acc: 0.2758\n",
            "Epoch: 1, Step: 119500/211692, Loss: 4.0990\n",
            "Epoch: 1, Step: 120000/211692, Loss: 4.2026\n",
            "Epoch: 1, Step: 120000/211692, Acc: 0.2776\n",
            "Epoch: 1, Step: 120500/211692, Loss: 4.1769\n",
            "Epoch: 1, Step: 121000/211692, Loss: 4.2289\n",
            "Epoch: 1, Step: 121000/211692, Acc: 0.2763\n",
            "Epoch: 1, Step: 121500/211692, Loss: 4.1643\n",
            "Epoch: 1, Step: 122000/211692, Loss: 4.1885\n",
            "Epoch: 1, Step: 122000/211692, Acc: 0.2770\n",
            "Epoch: 1, Step: 122500/211692, Loss: 4.1918\n",
            "Epoch: 1, Step: 123000/211692, Loss: 4.1476\n",
            "Epoch: 1, Step: 123000/211692, Acc: 0.2761\n",
            "Epoch: 1, Step: 123500/211692, Loss: 4.1412\n",
            "Epoch: 1, Step: 124000/211692, Loss: 4.1790\n",
            "Epoch: 1, Step: 124000/211692, Acc: 0.2760\n",
            "Epoch: 1, Step: 124500/211692, Loss: 4.1632\n",
            "Epoch: 1, Step: 125000/211692, Loss: 4.2084\n",
            "Epoch: 1, Step: 125000/211692, Acc: 0.2758\n",
            "Epoch: 1, Step: 125500/211692, Loss: 4.1058\n",
            "Epoch: 1, Step: 126000/211692, Loss: 4.1642\n",
            "Epoch: 1, Step: 126000/211692, Acc: 0.2758\n",
            "Epoch: 1, Step: 126500/211692, Loss: 4.1315\n",
            "Epoch: 1, Step: 127000/211692, Loss: 4.1279\n",
            "Epoch: 1, Step: 127000/211692, Acc: 0.2770\n",
            "Epoch: 1, Step: 127500/211692, Loss: 4.1483\n",
            "Epoch: 1, Step: 128000/211692, Loss: 4.1549\n",
            "Epoch: 1, Step: 128000/211692, Acc: 0.2724\n",
            "Epoch: 1, Step: 128500/211692, Loss: 4.1476\n",
            "Epoch: 1, Step: 129000/211692, Loss: 4.1950\n",
            "Epoch: 1, Step: 129000/211692, Acc: 0.2758\n",
            "Epoch: 1, Step: 129500/211692, Loss: 4.1429\n",
            "Epoch: 1, Step: 130000/211692, Loss: 4.1839\n",
            "Epoch: 1, Step: 130000/211692, Acc: 0.2753\n",
            "Epoch: 1, Step: 130500/211692, Loss: 4.1370\n",
            "Epoch: 1, Step: 131000/211692, Loss: 4.1355\n",
            "Epoch: 1, Step: 131000/211692, Acc: 0.2751\n",
            "Epoch: 1, Step: 131500/211692, Loss: 4.2001\n",
            "Epoch: 1, Step: 132000/211692, Loss: 4.1301\n",
            "Epoch: 1, Step: 132000/211692, Acc: 0.2761\n",
            "Epoch: 1, Step: 132500/211692, Loss: 4.1109\n",
            "Epoch: 1, Step: 133000/211692, Loss: 4.1595\n",
            "Epoch: 1, Step: 133000/211692, Acc: 0.2771\n",
            "Epoch: 1, Step: 133500/211692, Loss: 4.1461\n",
            "Epoch: 1, Step: 134000/211692, Loss: 4.1388\n",
            "Epoch: 1, Step: 134000/211692, Acc: 0.2758\n",
            "Epoch: 1, Step: 134500/211692, Loss: 4.2100\n",
            "Epoch: 1, Step: 135000/211692, Loss: 4.1410\n",
            "Epoch: 1, Step: 135000/211692, Acc: 0.2744\n",
            "Epoch: 1, Step: 135500/211692, Loss: 4.1719\n",
            "Epoch: 1, Step: 136000/211692, Loss: 4.1865\n",
            "Epoch: 1, Step: 136000/211692, Acc: 0.2765\n",
            "Epoch: 1, Step: 136500/211692, Loss: 4.1794\n",
            "Epoch: 1, Step: 137000/211692, Loss: 4.1259\n",
            "Epoch: 1, Step: 137000/211692, Acc: 0.2774\n",
            "Epoch: 1, Step: 137500/211692, Loss: 4.1481\n",
            "Epoch: 1, Step: 138000/211692, Loss: 4.1707\n",
            "Epoch: 1, Step: 138000/211692, Acc: 0.2767\n",
            "Epoch: 1, Step: 138500/211692, Loss: 4.1554\n",
            "Epoch: 1, Step: 139000/211692, Loss: 4.1581\n",
            "Epoch: 1, Step: 139000/211692, Acc: 0.2745\n",
            "Epoch: 1, Step: 139500/211692, Loss: 4.1480\n",
            "Epoch: 1, Step: 140000/211692, Loss: 4.1625\n",
            "Epoch: 1, Step: 140000/211692, Acc: 0.2762\n",
            "Epoch: 1, Step: 140500/211692, Loss: 4.1899\n",
            "Epoch: 1, Step: 141000/211692, Loss: 4.1600\n",
            "Epoch: 1, Step: 141000/211692, Acc: 0.2766\n",
            "Epoch: 1, Step: 141500/211692, Loss: 4.1666\n",
            "Epoch: 1, Step: 142000/211692, Loss: 4.1304\n",
            "Epoch: 1, Step: 142000/211692, Acc: 0.2766\n",
            "Epoch: 1, Step: 142500/211692, Loss: 4.1722\n",
            "Epoch: 1, Step: 143000/211692, Loss: 4.1319\n",
            "Epoch: 1, Step: 143000/211692, Acc: 0.2776\n",
            "Epoch: 1, Step: 143500/211692, Loss: 4.1567\n",
            "Epoch: 1, Step: 144000/211692, Loss: 4.1335\n",
            "Epoch: 1, Step: 144000/211692, Acc: 0.2739\n",
            "Epoch: 1, Step: 144500/211692, Loss: 4.1469\n",
            "Epoch: 1, Step: 145000/211692, Loss: 4.1598\n",
            "Epoch: 1, Step: 145000/211692, Acc: 0.2741\n",
            "Epoch: 1, Step: 145500/211692, Loss: 4.1772\n",
            "Epoch: 1, Step: 146000/211692, Loss: 4.1537\n",
            "Epoch: 1, Step: 146000/211692, Acc: 0.2765\n",
            "Epoch: 1, Step: 146500/211692, Loss: 4.1327\n",
            "Epoch: 1, Step: 147000/211692, Loss: 4.1896\n",
            "Epoch: 1, Step: 147000/211692, Acc: 0.2785\n",
            "Epoch: 1, Step: 147500/211692, Loss: 4.1274\n",
            "Epoch: 1, Step: 148000/211692, Loss: 4.1930\n",
            "Epoch: 1, Step: 148000/211692, Acc: 0.2756\n",
            "Epoch: 1, Step: 148500/211692, Loss: 4.1001\n",
            "Epoch: 1, Step: 149000/211692, Loss: 4.1196\n",
            "Epoch: 1, Step: 149000/211692, Acc: 0.2774\n",
            "Epoch: 1, Step: 149500/211692, Loss: 4.1511\n",
            "Epoch: 1, Step: 150000/211692, Loss: 4.1715\n",
            "Epoch: 1, Step: 150000/211692, Acc: 0.2768\n",
            "Epoch: 1, Step: 150500/211692, Loss: 4.1000\n",
            "Epoch: 1, Step: 151000/211692, Loss: 4.1900\n",
            "Epoch: 1, Step: 151000/211692, Acc: 0.2737\n",
            "Epoch: 1, Step: 151500/211692, Loss: 4.0775\n",
            "Epoch: 1, Step: 152000/211692, Loss: 4.0810\n",
            "Epoch: 1, Step: 152000/211692, Acc: 0.2772\n",
            "Epoch: 1, Step: 152500/211692, Loss: 4.1788\n",
            "Epoch: 1, Step: 153000/211692, Loss: 4.1526\n",
            "Epoch: 1, Step: 153000/211692, Acc: 0.2739\n",
            "Epoch: 1, Step: 153500/211692, Loss: 4.1432\n",
            "Epoch: 1, Step: 154000/211692, Loss: 4.1725\n",
            "Epoch: 1, Step: 154000/211692, Acc: 0.2771\n",
            "Epoch: 1, Step: 154500/211692, Loss: 4.1352\n",
            "Epoch: 1, Step: 155000/211692, Loss: 4.1869\n",
            "Epoch: 1, Step: 155000/211692, Acc: 0.2747\n",
            "Epoch: 1, Step: 155500/211692, Loss: 4.0870\n",
            "Epoch: 1, Step: 156000/211692, Loss: 4.0699\n",
            "Epoch: 1, Step: 156000/211692, Acc: 0.2770\n",
            "Epoch: 1, Step: 156500/211692, Loss: 4.1186\n",
            "Epoch: 1, Step: 157000/211692, Loss: 4.1834\n",
            "Epoch: 1, Step: 157000/211692, Acc: 0.2760\n",
            "Epoch: 1, Step: 157500/211692, Loss: 4.0907\n",
            "Epoch: 1, Step: 158000/211692, Loss: 4.1278\n",
            "Epoch: 1, Step: 158000/211692, Acc: 0.2759\n",
            "Epoch: 1, Step: 158500/211692, Loss: 4.1708\n",
            "Epoch: 1, Step: 159000/211692, Loss: 4.1176\n",
            "Epoch: 1, Step: 159000/211692, Acc: 0.2746\n",
            "Epoch: 1, Step: 159500/211692, Loss: 4.1662\n",
            "Epoch: 1, Step: 160000/211692, Loss: 4.1368\n",
            "Epoch: 1, Step: 160000/211692, Acc: 0.2778\n",
            "Epoch: 1, Step: 160500/211692, Loss: 4.2031\n",
            "Epoch: 1, Step: 161000/211692, Loss: 4.1242\n",
            "Epoch: 1, Step: 161000/211692, Acc: 0.2752\n",
            "Epoch: 1, Step: 161500/211692, Loss: 4.1139\n",
            "Epoch: 1, Step: 162000/211692, Loss: 4.1251\n",
            "Epoch: 1, Step: 162000/211692, Acc: 0.2754\n",
            "Epoch: 1, Step: 162500/211692, Loss: 4.1242\n",
            "Epoch: 1, Step: 163000/211692, Loss: 4.2181\n",
            "Epoch: 1, Step: 163000/211692, Acc: 0.2765\n",
            "Epoch: 1, Step: 163500/211692, Loss: 4.1277\n",
            "Epoch: 1, Step: 164000/211692, Loss: 4.1184\n",
            "Epoch: 1, Step: 164000/211692, Acc: 0.2761\n",
            "Epoch: 1, Step: 164500/211692, Loss: 4.1212\n",
            "Epoch: 1, Step: 165000/211692, Loss: 4.1354\n",
            "Epoch: 1, Step: 165000/211692, Acc: 0.2746\n",
            "Epoch: 1, Step: 165500/211692, Loss: 4.1726\n",
            "Epoch: 1, Step: 166000/211692, Loss: 4.1207\n",
            "Epoch: 1, Step: 166000/211692, Acc: 0.2770\n",
            "Epoch: 1, Step: 166500/211692, Loss: 4.0932\n",
            "Epoch: 1, Step: 167000/211692, Loss: 4.1052\n",
            "Epoch: 1, Step: 167000/211692, Acc: 0.2754\n",
            "Epoch: 1, Step: 167500/211692, Loss: 4.1420\n",
            "Epoch: 1, Step: 168000/211692, Loss: 4.1153\n",
            "Epoch: 1, Step: 168000/211692, Acc: 0.2769\n",
            "Epoch: 1, Step: 168500/211692, Loss: 4.1353\n",
            "Epoch: 1, Step: 169000/211692, Loss: 4.1382\n",
            "Epoch: 1, Step: 169000/211692, Acc: 0.2749\n",
            "Epoch: 1, Step: 169500/211692, Loss: 4.1116\n",
            "Epoch: 1, Step: 170000/211692, Loss: 4.1692\n",
            "Epoch: 1, Step: 170000/211692, Acc: 0.2771\n",
            "Epoch: 1, Step: 170500/211692, Loss: 4.1131\n",
            "Epoch: 1, Step: 171000/211692, Loss: 4.1755\n",
            "Epoch: 1, Step: 171000/211692, Acc: 0.2769\n",
            "Epoch: 1, Step: 171500/211692, Loss: 4.0936\n",
            "Epoch: 1, Step: 172000/211692, Loss: 4.1215\n",
            "Epoch: 1, Step: 172000/211692, Acc: 0.2769\n",
            "Epoch: 1, Step: 172500/211692, Loss: 4.0700\n",
            "Epoch: 1, Step: 173000/211692, Loss: 4.0623\n",
            "Epoch: 1, Step: 173000/211692, Acc: 0.2736\n",
            "Epoch: 1, Step: 173500/211692, Loss: 4.0819\n",
            "Epoch: 1, Step: 174000/211692, Loss: 4.1035\n",
            "Epoch: 1, Step: 174000/211692, Acc: 0.2769\n",
            "Epoch: 1, Step: 174500/211692, Loss: 4.1751\n",
            "Epoch: 1, Step: 175000/211692, Loss: 4.1356\n",
            "Epoch: 1, Step: 175000/211692, Acc: 0.2763\n",
            "Epoch: 1, Step: 175500/211692, Loss: 4.1472\n",
            "Epoch: 1, Step: 176000/211692, Loss: 4.1631\n",
            "Epoch: 1, Step: 176000/211692, Acc: 0.2762\n",
            "Epoch: 1, Step: 176500/211692, Loss: 4.1052\n",
            "Epoch: 1, Step: 177000/211692, Loss: 4.1326\n",
            "Epoch: 1, Step: 177000/211692, Acc: 0.2755\n",
            "Epoch: 1, Step: 177500/211692, Loss: 4.1061\n",
            "Epoch: 1, Step: 178000/211692, Loss: 4.1640\n",
            "Epoch: 1, Step: 178000/211692, Acc: 0.2742\n",
            "Epoch: 1, Step: 178500/211692, Loss: 4.1460\n",
            "Epoch: 1, Step: 179000/211692, Loss: 4.0803\n",
            "Epoch: 1, Step: 179000/211692, Acc: 0.2773\n",
            "Epoch: 1, Step: 179500/211692, Loss: 4.1246\n",
            "Epoch: 1, Step: 180000/211692, Loss: 4.1390\n",
            "Epoch: 1, Step: 180000/211692, Acc: 0.2759\n",
            "Epoch: 1, Step: 180500/211692, Loss: 4.0910\n",
            "Epoch: 1, Step: 181000/211692, Loss: 4.1018\n",
            "Epoch: 1, Step: 181000/211692, Acc: 0.2747\n",
            "Epoch: 1, Step: 181500/211692, Loss: 4.1169\n",
            "Epoch: 1, Step: 182000/211692, Loss: 4.1076\n",
            "Epoch: 1, Step: 182000/211692, Acc: 0.2766\n",
            "Epoch: 1, Step: 182500/211692, Loss: 4.1137\n",
            "Epoch: 1, Step: 183000/211692, Loss: 4.0901\n",
            "Epoch: 1, Step: 183000/211692, Acc: 0.2741\n",
            "Epoch: 1, Step: 183500/211692, Loss: 4.1623\n",
            "Epoch: 1, Step: 184000/211692, Loss: 4.1178\n",
            "Epoch: 1, Step: 184000/211692, Acc: 0.2745\n",
            "Epoch: 1, Step: 184500/211692, Loss: 4.0987\n",
            "Epoch: 1, Step: 185000/211692, Loss: 4.1879\n",
            "Epoch: 1, Step: 185000/211692, Acc: 0.2768\n",
            "Epoch: 1, Step: 185500/211692, Loss: 4.1337\n",
            "Epoch: 1, Step: 186000/211692, Loss: 4.1347\n",
            "Epoch: 1, Step: 186000/211692, Acc: 0.2770\n",
            "Epoch: 1, Step: 186500/211692, Loss: 4.1512\n",
            "Epoch: 1, Step: 187000/211692, Loss: 4.1157\n",
            "Epoch: 1, Step: 187000/211692, Acc: 0.2755\n",
            "Epoch: 1, Step: 187500/211692, Loss: 4.1288\n",
            "Epoch: 1, Step: 188000/211692, Loss: 4.1206\n",
            "Epoch: 1, Step: 188000/211692, Acc: 0.2767\n",
            "Epoch: 1, Step: 188500/211692, Loss: 4.0654\n",
            "Epoch: 1, Step: 189000/211692, Loss: 4.1518\n",
            "Epoch: 1, Step: 189000/211692, Acc: 0.2765\n",
            "Epoch: 1, Step: 189500/211692, Loss: 4.1173\n",
            "Epoch: 1, Step: 190000/211692, Loss: 4.0840\n",
            "Epoch: 1, Step: 190000/211692, Acc: 0.2733\n",
            "Epoch: 1, Step: 190500/211692, Loss: 4.1195\n",
            "Epoch: 1, Step: 191000/211692, Loss: 4.1746\n",
            "Epoch: 1, Step: 191000/211692, Acc: 0.2759\n",
            "Epoch: 1, Step: 191500/211692, Loss: 4.1244\n",
            "Epoch: 1, Step: 192000/211692, Loss: 4.1310\n",
            "Epoch: 1, Step: 192000/211692, Acc: 0.2779\n",
            "Epoch: 1, Step: 192500/211692, Loss: 4.0741\n",
            "Epoch: 1, Step: 193000/211692, Loss: 4.1219\n",
            "Epoch: 1, Step: 193000/211692, Acc: 0.2756\n",
            "Epoch: 1, Step: 193500/211692, Loss: 4.1449\n",
            "Epoch: 1, Step: 194000/211692, Loss: 4.1071\n",
            "Epoch: 1, Step: 194000/211692, Acc: 0.2775\n",
            "Epoch: 1, Step: 194500/211692, Loss: 4.1099\n",
            "Epoch: 1, Step: 195000/211692, Loss: 4.0960\n",
            "Epoch: 1, Step: 195000/211692, Acc: 0.2753\n",
            "Epoch: 1, Step: 195500/211692, Loss: 4.0904\n",
            "Epoch: 1, Step: 196000/211692, Loss: 4.1679\n",
            "Epoch: 1, Step: 196000/211692, Acc: 0.2777\n",
            "Epoch: 1, Step: 196500/211692, Loss: 4.0787\n",
            "Epoch: 1, Step: 197000/211692, Loss: 4.0973\n",
            "Epoch: 1, Step: 197000/211692, Acc: 0.2781\n",
            "Epoch: 1, Step: 197500/211692, Loss: 4.1900\n",
            "Epoch: 1, Step: 198000/211692, Loss: 4.1032\n",
            "Epoch: 1, Step: 198000/211692, Acc: 0.2770\n",
            "Epoch: 1, Step: 198500/211692, Loss: 4.1153\n",
            "Epoch: 1, Step: 199000/211692, Loss: 4.1047\n",
            "Epoch: 1, Step: 199000/211692, Acc: 0.2768\n",
            "Epoch: 1, Step: 199500/211692, Loss: 4.1356\n",
            "Epoch: 1, Step: 200000/211692, Loss: 4.0819\n",
            "Epoch: 1, Step: 200000/211692, Acc: 0.2775\n",
            "Epoch: 1, Step: 200500/211692, Loss: 4.1173\n",
            "Epoch: 1, Step: 201000/211692, Loss: 4.1340\n",
            "Epoch: 1, Step: 201000/211692, Acc: 0.2750\n",
            "Epoch: 1, Step: 201500/211692, Loss: 4.1264\n",
            "Epoch: 1, Step: 202000/211692, Loss: 4.1295\n",
            "Epoch: 1, Step: 202000/211692, Acc: 0.2752\n",
            "Epoch: 1, Step: 202500/211692, Loss: 4.1352\n",
            "Epoch: 1, Step: 203000/211692, Loss: 4.0761\n",
            "Epoch: 1, Step: 203000/211692, Acc: 0.2752\n",
            "Epoch: 1, Step: 203500/211692, Loss: 4.1184\n",
            "Epoch: 1, Step: 204000/211692, Loss: 4.1413\n",
            "Epoch: 1, Step: 204000/211692, Acc: 0.2759\n",
            "Epoch: 1, Step: 204500/211692, Loss: 4.1747\n",
            "Epoch: 1, Step: 205000/211692, Loss: 4.1101\n",
            "Epoch: 1, Step: 205000/211692, Acc: 0.2761\n",
            "Epoch: 1, Step: 205500/211692, Loss: 4.0926\n",
            "Epoch: 1, Step: 206000/211692, Loss: 4.2063\n",
            "Epoch: 1, Step: 206000/211692, Acc: 0.2768\n",
            "Epoch: 1, Step: 206500/211692, Loss: 4.1150\n",
            "Epoch: 1, Step: 207000/211692, Loss: 4.1500\n",
            "Epoch: 1, Step: 207000/211692, Acc: 0.2767\n",
            "Epoch: 1, Step: 207500/211692, Loss: 4.0955\n",
            "Epoch: 1, Step: 208000/211692, Loss: 4.0933\n",
            "Epoch: 1, Step: 208000/211692, Acc: 0.2757\n",
            "Epoch: 1, Step: 208500/211692, Loss: 4.1340\n",
            "Epoch: 1, Step: 209000/211692, Loss: 4.1426\n",
            "Epoch: 1, Step: 209000/211692, Acc: 0.2760\n",
            "Epoch: 1, Step: 209500/211692, Loss: 4.1455\n",
            "Epoch: 1, Step: 210000/211692, Loss: 4.1115\n",
            "Epoch: 1, Step: 210000/211692, Acc: 0.2770\n",
            "Epoch: 1, Step: 210500/211692, Loss: 4.1103\n",
            "Epoch: 1, Step: 211000/211692, Loss: 4.0760\n",
            "Epoch: 1, Step: 211000/211692, Acc: 0.2757\n",
            "Epoch: 1, Step: 211500/211692, Loss: 4.0858\n",
            "Epoch: 1, Accuracy: 0.2774\n"
          ]
        }
      ],
      "source": [
        "for epoch in range(1, 2):\n",
        "    train(epoch)\n",
        "    acc = test()\n",
        "    print(f'Epoch: {epoch}, Accuracy: {acc:.4f}')\n",
        ""
      ]
    },
    {
      "cell_type": "code",
      "execution_count": null,
      "metadata": {
        "id": "ZcH1SbRTbNOp"
      },
      "outputs": [],
      "source": []
    },
    {
      "cell_type": "markdown",
      "metadata": {
        "id": "SBr4NkvYbNOp"
      },
      "source": [
        "# load the model"
      ]
    },
    {
      "cell_type": "code",
      "execution_count": 12,
      "metadata": {
        "id": "p9onzvzebNOp"
      },
      "outputs": [],
      "source": [
        "loaded_model = MetaPath2Vec(data.edge_index_dict,\n",
        "                     embedding_dim=64,\n",
        "                     metapath=metapath,\n",
        "                     walk_length=3,\n",
        "                     context_size=3,\n",
        "                     walks_per_node=2,\n",
        "                     num_negative_samples=1,\n",
        "                     sparse=True\n",
        "                    ).to(device)"
      ]
    },
    {
      "cell_type": "code",
      "execution_count": 13,
      "metadata": {
        "id": "5qYbf26GbNOp",
        "outputId": "baaba6a1-8786-47e4-cc72-3c36696d2706",
        "colab": {
          "base_uri": "https://localhost:8080/"
        }
      },
      "outputs": [
        {
          "output_type": "stream",
          "name": "stdout",
          "text": [
            "tensor([-0.6314,  1.3194,  0.5600,  0.7705,  0.2499], grad_fn=<SliceBackward0>)\n"
          ]
        }
      ],
      "source": [
        "print(loaded_model.embedding.weight[1][:5])"
      ]
    },
    {
      "cell_type": "code",
      "execution_count": null,
      "metadata": {
        "id": "VEjHSOI1bNOp"
      },
      "outputs": [],
      "source": [
        "# load the model\n",
        "loaded_model.load_state_dict(torch.load(\"mymodel\").detach().cpu())"
      ]
    },
    {
      "cell_type": "code",
      "execution_count": null,
      "metadata": {
        "id": "iBwKfKitbNOq"
      },
      "outputs": [],
      "source": [
        "# move the model to cpu\n",
        "file = torch.load('mymodel', map_location=lambda storage, loc: storage)\n",
        "loaded_model.load_state_dict(file)"
      ]
    },
    {
      "cell_type": "code",
      "execution_count": null,
      "metadata": {
        "id": "fMVTX48hbNOq"
      },
      "outputs": [],
      "source": [
        "print(loaded_model.embedding.weight[1][:5])"
      ]
    },
    {
      "cell_type": "code",
      "execution_count": 14,
      "metadata": {
        "id": "UdDLSIR6bNOq"
      },
      "outputs": [],
      "source": [
        "z_venue = loaded_model('venue', batch=data.y_index_dict['venue']).detach().numpy()\n",
        "z_auth = loaded_model('author', batch=data.y_index_dict['author']).detach().numpy()"
      ]
    },
    {
      "cell_type": "code",
      "execution_count": 15,
      "metadata": {
        "id": "3IVIOzbZbNOq"
      },
      "outputs": [],
      "source": [
        "z_venue = z_venue[0:100]\n",
        "z_auth = z_auth[0:100]"
      ]
    },
    {
      "cell_type": "code",
      "execution_count": 20,
      "metadata": {
        "id": "VmvG3vPybNOr",
        "outputId": "20314d14-1b0f-4ebf-837d-85404c7787b9",
        "colab": {
          "base_uri": "https://localhost:8080/"
        }
      },
      "outputs": [
        {
          "output_type": "stream",
          "name": "stdout",
          "text": [
            "Requirement already satisfied: umap-learn in /usr/local/lib/python3.10/dist-packages (0.5.7)\n",
            "Requirement already satisfied: numpy>=1.17 in /usr/local/lib/python3.10/dist-packages (from umap-learn) (1.26.4)\n",
            "Requirement already satisfied: scipy>=1.3.1 in /usr/local/lib/python3.10/dist-packages (from umap-learn) (1.13.1)\n",
            "Requirement already satisfied: scikit-learn>=0.22 in /usr/local/lib/python3.10/dist-packages (from umap-learn) (1.6.0)\n",
            "Requirement already satisfied: numba>=0.51.2 in /usr/local/lib/python3.10/dist-packages (from umap-learn) (0.60.0)\n",
            "Requirement already satisfied: pynndescent>=0.5 in /usr/local/lib/python3.10/dist-packages (from umap-learn) (0.5.13)\n",
            "Requirement already satisfied: tqdm in /usr/local/lib/python3.10/dist-packages (from umap-learn) (4.67.1)\n",
            "Requirement already satisfied: llvmlite<0.44,>=0.43.0dev0 in /usr/local/lib/python3.10/dist-packages (from numba>=0.51.2->umap-learn) (0.43.0)\n",
            "Requirement already satisfied: joblib>=0.11 in /usr/local/lib/python3.10/dist-packages (from pynndescent>=0.5->umap-learn) (1.4.2)\n",
            "Requirement already satisfied: threadpoolctl>=3.1.0 in /usr/local/lib/python3.10/dist-packages (from scikit-learn>=0.22->umap-learn) (3.5.0)\n"
          ]
        },
        {
          "output_type": "stream",
          "name": "stderr",
          "text": [
            "/usr/local/lib/python3.10/dist-packages/sklearn/utils/deprecation.py:151: FutureWarning: 'force_all_finite' was renamed to 'ensure_all_finite' in 1.6 and will be removed in 1.8.\n",
            "  warnings.warn(\n",
            "/usr/local/lib/python3.10/dist-packages/sklearn/utils/deprecation.py:151: FutureWarning: 'force_all_finite' was renamed to 'ensure_all_finite' in 1.6 and will be removed in 1.8.\n",
            "  warnings.warn(\n"
          ]
        }
      ],
      "source": [
        "!pip install umap-learn\n",
        "import umap\n",
        "\n",
        "# embedder = umap.UMAP().fit(data,y)\n",
        "\n",
        "z_venue_2d = umap.UMAP().fit_transform(z_venue)\n",
        "z_auth_2d = umap.UMAP().fit_transform(z_auth)"
      ]
    },
    {
      "cell_type": "code",
      "execution_count": null,
      "metadata": {
        "id": "nTeG6T_ibNOr"
      },
      "outputs": [],
      "source": []
    },
    {
      "cell_type": "code",
      "execution_count": 21,
      "metadata": {
        "id": "wIlGixepbNOr",
        "outputId": "7f6003d8-3ad7-4403-8e03-982579b87a5c",
        "colab": {
          "base_uri": "https://localhost:8080/",
          "height": 545
        }
      },
      "outputs": [
        {
          "output_type": "display_data",
          "data": {
            "text/plain": [
              "<Figure size 600x600 with 1 Axes>"
            ],
            "image/png": "[encoded data removed]"
          },
          "metadata": {}
        }
      ],
      "source": [
        "import matplotlib.pyplot as plt\n",
        "\n",
        "\n",
        "plt.figure(figsize=(6,6))\n",
        "plt.scatter(z_auth_2d[:,0],z_auth_2d[:,1],color=\"red\",alpha=0.5,label=\"author\")\n",
        "plt.scatter(z_venue_2d[:,0],z_venue_2d[:,1],color=\"blue\",alpha=0.5,label=\"venue\")\n",
        "plt.legend()\n",
        "plt.title(\"2D embedding\")\n",
        "plt.show()"
      ]
    }
  ],
  "metadata": {
    "kernelspec": {
      "display_name": "Python 3 (ipykernel)",
      "language": "python",
      "name": "python3"
    },
    "language_info": {
      "codemirror_mode": {
        "name": "ipython",
        "version": 3
      },
      "file_extension": ".py",
      "mimetype": "text/x-python",
      "name": "python",
      "nbconvert_exporter": "python",
      "pygments_lexer": "ipython3",
      "version": "3.9.7"
    },
    "colab": {
      "provenance": []
    }
  },
  "nbformat": 4,
  "nbformat_minor": 0
}